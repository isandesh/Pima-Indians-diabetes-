{
 "cells": [
  {
   "cell_type": "markdown",
   "metadata": {},
   "source": [
    "# Bayes Model Calculations"
   ]
  },
  {
   "cell_type": "code",
   "execution_count": 204,
   "metadata": {
    "collapsed": true
   },
   "outputs": [],
   "source": [
    "import numpy as np\n",
    "import pandas as pd\n",
    "import itertools\n",
    "from scipy import stats"
   ]
  },
  {
   "cell_type": "markdown",
   "metadata": {},
   "source": [
    "### Loading Data"
   ]
  },
  {
   "cell_type": "code",
   "execution_count": 205,
   "metadata": {
    "collapsed": false
   },
   "outputs": [
    {
     "data": {
      "text/html": [
       "<div>\n",
       "<table border=\"1\" class=\"dataframe\">\n",
       "  <thead>\n",
       "    <tr style=\"text-align: right;\">\n",
       "      <th></th>\n",
       "      <th>Unnamed: 0</th>\n",
       "      <th>Pregnancies</th>\n",
       "      <th>Glucose</th>\n",
       "      <th>BloodPressure</th>\n",
       "      <th>BMI</th>\n",
       "      <th>DiabetesPedigreeFunction</th>\n",
       "      <th>Age</th>\n",
       "      <th>Outcome</th>\n",
       "    </tr>\n",
       "  </thead>\n",
       "  <tbody>\n",
       "    <tr>\n",
       "      <th>count</th>\n",
       "      <td>614.000000</td>\n",
       "      <td>614.000000</td>\n",
       "      <td>614.000000</td>\n",
       "      <td>614.000000</td>\n",
       "      <td>614.000000</td>\n",
       "      <td>614.000000</td>\n",
       "      <td>614.000000</td>\n",
       "      <td>614.000000</td>\n",
       "    </tr>\n",
       "    <tr>\n",
       "      <th>mean</th>\n",
       "      <td>388.925081</td>\n",
       "      <td>1.625407</td>\n",
       "      <td>1.019544</td>\n",
       "      <td>0.956026</td>\n",
       "      <td>1.781759</td>\n",
       "      <td>0.363192</td>\n",
       "      <td>0.311075</td>\n",
       "      <td>0.328990</td>\n",
       "    </tr>\n",
       "    <tr>\n",
       "      <th>std</th>\n",
       "      <td>221.258320</td>\n",
       "      <td>1.054659</td>\n",
       "      <td>0.719984</td>\n",
       "      <td>0.434658</td>\n",
       "      <td>1.038222</td>\n",
       "      <td>0.481312</td>\n",
       "      <td>0.553183</td>\n",
       "      <td>0.470229</td>\n",
       "    </tr>\n",
       "    <tr>\n",
       "      <th>min</th>\n",
       "      <td>1.000000</td>\n",
       "      <td>0.000000</td>\n",
       "      <td>0.000000</td>\n",
       "      <td>0.000000</td>\n",
       "      <td>0.000000</td>\n",
       "      <td>0.000000</td>\n",
       "      <td>0.000000</td>\n",
       "      <td>0.000000</td>\n",
       "    </tr>\n",
       "    <tr>\n",
       "      <th>25%</th>\n",
       "      <td>203.250000</td>\n",
       "      <td>1.000000</td>\n",
       "      <td>1.000000</td>\n",
       "      <td>1.000000</td>\n",
       "      <td>1.000000</td>\n",
       "      <td>0.000000</td>\n",
       "      <td>0.000000</td>\n",
       "      <td>0.000000</td>\n",
       "    </tr>\n",
       "    <tr>\n",
       "      <th>50%</th>\n",
       "      <td>394.500000</td>\n",
       "      <td>2.000000</td>\n",
       "      <td>1.000000</td>\n",
       "      <td>1.000000</td>\n",
       "      <td>2.000000</td>\n",
       "      <td>0.000000</td>\n",
       "      <td>0.000000</td>\n",
       "      <td>0.000000</td>\n",
       "    </tr>\n",
       "    <tr>\n",
       "      <th>75%</th>\n",
       "      <td>579.750000</td>\n",
       "      <td>3.000000</td>\n",
       "      <td>1.000000</td>\n",
       "      <td>1.000000</td>\n",
       "      <td>3.000000</td>\n",
       "      <td>1.000000</td>\n",
       "      <td>1.000000</td>\n",
       "      <td>1.000000</td>\n",
       "    </tr>\n",
       "    <tr>\n",
       "      <th>max</th>\n",
       "      <td>767.000000</td>\n",
       "      <td>3.000000</td>\n",
       "      <td>3.000000</td>\n",
       "      <td>2.000000</td>\n",
       "      <td>3.000000</td>\n",
       "      <td>1.000000</td>\n",
       "      <td>2.000000</td>\n",
       "      <td>1.000000</td>\n",
       "    </tr>\n",
       "  </tbody>\n",
       "</table>\n",
       "</div>"
      ],
      "text/plain": [
       "       Unnamed: 0  Pregnancies     Glucose  BloodPressure         BMI  \\\n",
       "count  614.000000   614.000000  614.000000     614.000000  614.000000   \n",
       "mean   388.925081     1.625407    1.019544       0.956026    1.781759   \n",
       "std    221.258320     1.054659    0.719984       0.434658    1.038222   \n",
       "min      1.000000     0.000000    0.000000       0.000000    0.000000   \n",
       "25%    203.250000     1.000000    1.000000       1.000000    1.000000   \n",
       "50%    394.500000     2.000000    1.000000       1.000000    2.000000   \n",
       "75%    579.750000     3.000000    1.000000       1.000000    3.000000   \n",
       "max    767.000000     3.000000    3.000000       2.000000    3.000000   \n",
       "\n",
       "       DiabetesPedigreeFunction         Age     Outcome  \n",
       "count                614.000000  614.000000  614.000000  \n",
       "mean                   0.363192    0.311075    0.328990  \n",
       "std                    0.481312    0.553183    0.470229  \n",
       "min                    0.000000    0.000000    0.000000  \n",
       "25%                    0.000000    0.000000    0.000000  \n",
       "50%                    0.000000    0.000000    0.000000  \n",
       "75%                    1.000000    1.000000    1.000000  \n",
       "max                    1.000000    2.000000    1.000000  "
      ]
     },
     "execution_count": 205,
     "metadata": {},
     "output_type": "execute_result"
    }
   ],
   "source": [
    "df = pd.read_csv('train.csv')\n",
    "df.describe()"
   ]
  },
  {
   "cell_type": "code",
   "execution_count": 206,
   "metadata": {
    "collapsed": false
   },
   "outputs": [],
   "source": [
    "#Removing redundant indices column\n",
    "df.drop('Unnamed: 0', axis=1, inplace=True)"
   ]
  },
  {
   "cell_type": "markdown",
   "metadata": {},
   "source": [
    "### Functions for creating discrete probability distributions "
   ]
  },
  {
   "cell_type": "code",
   "execution_count": 207,
   "metadata": {
    "collapsed": false
   },
   "outputs": [],
   "source": [
    "def possible_values_per_feature(df_, features):\n",
    "    possible_values = []\n",
    "    for feature in features:\n",
    "        possible_values.append(df_.dropna(subset=[feature]).index.values)\n",
    "    return possible_values\n",
    "\n",
    "def value_probabilities_per_feature(df_, features, observations):\n",
    "    value_probabilities = []\n",
    "    for feature in features:\n",
    "        value_probabilities.append(df_[feature]/observations)\n",
    "    return value_probabilities\n",
    "\n",
    "def discrete_dist_per_feature(possible_values, value_probabilities, features):\n",
    "    dist = []\n",
    "    for feature, x, p in itertools.izip(features, possible_values, value_probabilities):\n",
    "        dist.append(stats.rv_discrete(name=feature, values=(x, p)))\n",
    "    return dist"
   ]
  },
  {
   "cell_type": "markdown",
   "metadata": {},
   "source": [
    "### Priors"
   ]
  },
  {
   "cell_type": "code",
   "execution_count": 208,
   "metadata": {
    "collapsed": true
   },
   "outputs": [],
   "source": [
    "total_observations = len(df)\n",
    "counts_df = df.apply(pd.value_counts)"
   ]
  },
  {
   "cell_type": "code",
   "execution_count": 209,
   "metadata": {
    "collapsed": true
   },
   "outputs": [],
   "source": [
    "column_list = counts_df.columns.values.tolist()\n",
    "column_list.remove('Outcome')"
   ]
  },
  {
   "cell_type": "code",
   "execution_count": 210,
   "metadata": {
    "collapsed": true
   },
   "outputs": [],
   "source": [
    "diabetes_prior = 0.66  #uniform, from research paper on Pimas"
   ]
  },
  {
   "cell_type": "code",
   "execution_count": 211,
   "metadata": {
    "collapsed": false
   },
   "outputs": [],
   "source": [
    "possible_values = possible_values_per_feature(counts_df, column_list)\n",
    "value_probabilities = value_probabilities_per_feature(counts_df, column_list, total_observations)\n",
    "priors = discrete_dist_per_feature(possible_values, value_probabilities, column_list)\n",
    "#use xk for possible values, pk for probabilities"
   ]
  },
  {
   "cell_type": "markdown",
   "metadata": {},
   "source": [
    "### Likelihoods"
   ]
  },
  {
   "cell_type": "code",
   "execution_count": 212,
   "metadata": {
    "collapsed": true
   },
   "outputs": [],
   "source": [
    "pd.options.mode.chained_assignment = None  # default='warn'"
   ]
  },
  {
   "cell_type": "markdown",
   "metadata": {},
   "source": [
    "subsetting the DF to diabetes positive and diabetes negative patients:"
   ]
  },
  {
   "cell_type": "code",
   "execution_count": 213,
   "metadata": {
    "collapsed": false
   },
   "outputs": [],
   "source": [
    "diabetes_df = df.loc[df.Outcome == 1]\n",
    "diabetes_df.drop('Outcome', axis=1, inplace=True)\n",
    "counts_diabetes_df= diabetes_df.apply(pd.value_counts)\n",
    "\n",
    "non_diabetes_df = df.loc[df.Outcome == 0]\n",
    "non_diabetes_df.drop('Outcome', axis=1, inplace=True)\n",
    "counts_non_diabetes_df= non_diabetes_df.apply(pd.value_counts)"
   ]
  },
  {
   "cell_type": "code",
   "execution_count": 214,
   "metadata": {
    "collapsed": false
   },
   "outputs": [],
   "source": [
    "diabetes_observations = len(diabetes_df)\n",
    "non_diabetes_observations = total_observations - diabetes_observations"
   ]
  },
  {
   "cell_type": "markdown",
   "metadata": {},
   "source": [
    "Calculating likelihoods (From the class definition)"
   ]
  },
  {
   "cell_type": "code",
   "execution_count": 215,
   "metadata": {
    "collapsed": false
   },
   "outputs": [],
   "source": [
    "diabetes_value_prob = value_probabilities_per_feature(counts_diabetes_df, column_list, diabetes_observations)\n",
    "diabetes_likelihoods = discrete_dist_per_feature(possible_values, diabetes_value_prob, column_list)\n",
    "non_diabetes_value_prob = value_probabilities_per_feature(counts_non_diabetes_df, column_list, non_diabetes_observations)\n",
    "non_diabetes_likelihoods = discrete_dist_per_feature(possible_values, non_diabetes_value_prob, column_list)"
   ]
  },
  {
   "cell_type": "markdown",
   "metadata": {},
   "source": [
    "# Testing\n"
   ]
  },
  {
   "cell_type": "markdown",
   "metadata": {},
   "source": [
    "### Functions for testing"
   ]
  },
  {
   "cell_type": "markdown",
   "metadata": {},
   "source": [
    "Returns a list of P(e|Diabetes), I assume independence between variables."
   ]
  },
  {
   "cell_type": "code",
   "execution_count": 216,
   "metadata": {
    "collapsed": true
   },
   "outputs": [],
   "source": [
    "def cond_prob_sample(likelihoods0, likelihoods1, sample):\n",
    "    sample_prob = []\n",
    "    for e, l0, l1 in itertools.izip(sample, likelihoods0, likelihoods1):\n",
    "        sample_prob.append([l0.pmf(e), l1.pmf(e)])\n",
    "    return sample_prob"
   ]
  },
  {
   "cell_type": "markdown",
   "metadata": {},
   "source": [
    "marginal = [P(e1|D=1)...P(e6|D=1)P(D=1) + P(e1|D=0)...P(e6|D=0)P(D=0)]"
   ]
  },
  {
   "cell_type": "code",
   "execution_count": 217,
   "metadata": {
    "collapsed": true
   },
   "outputs": [],
   "source": [
    "def marg_prob_sample(sample_probability, diabetes_prior):\n",
    "    d0 = 1\n",
    "    d1 = 1\n",
    "    for l0, l1 in sample_probability:\n",
    "        d0 *= l0\n",
    "        d1 *= l1\n",
    "    return d1*diabetes_prior + d0*(1-diabetes_prior)"
   ]
  },
  {
   "cell_type": "markdown",
   "metadata": {},
   "source": [
    "posterior = P(D|e1,...,e6) = [P(e1|D=1)...P(e6|D=1)P(D=1)] / marginal"
   ]
  },
  {
   "cell_type": "code",
   "execution_count": 218,
   "metadata": {
    "collapsed": true
   },
   "outputs": [],
   "source": [
    "def posterior(sample, diabetes_prior, likelihoods0, likelihoods1):\n",
    "    cond_prob = cond_prob_sample(likelihoods0, likelihoods1, sample)\n",
    "    PE = marg_prob_sample(cond_prob, diabetes_prior)\n",
    "    posterior = 1\n",
    "    for cond_prob0, cond_prob1 in cond_prob:\n",
    "        posterior *= cond_prob1\n",
    "    return (posterior*diabetes_prior)/PE"
   ]
  },
  {
   "cell_type": "markdown",
   "metadata": {},
   "source": [
    "### Loading test data"
   ]
  },
  {
   "cell_type": "code",
   "execution_count": 219,
   "metadata": {
    "collapsed": true
   },
   "outputs": [],
   "source": [
    "df_test = pd.read_csv('test.csv')"
   ]
  },
  {
   "cell_type": "code",
   "execution_count": 220,
   "metadata": {
    "collapsed": false
   },
   "outputs": [],
   "source": [
    "df_test.describe()\n",
    "test_size = len(df_test)"
   ]
  },
  {
   "cell_type": "code",
   "execution_count": 221,
   "metadata": {
    "collapsed": false
   },
   "outputs": [],
   "source": [
    "df_test.drop('Unnamed: 0', axis=1, inplace=True)"
   ]
  },
  {
   "cell_type": "code",
   "execution_count": 222,
   "metadata": {
    "collapsed": false
   },
   "outputs": [],
   "source": [
    "test_outcomes = df_test['Outcome'].as_matrix\n",
    "test_outcomes = test_outcomes > 0\n",
    "test_samples = df_test.drop('Outcome', axis=1).as_matrix()"
   ]
  },
  {
   "cell_type": "markdown",
   "metadata": {},
   "source": [
    "### Predicting"
   ]
  },
  {
   "cell_type": "code",
   "execution_count": 226,
   "metadata": {
    "collapsed": false
   },
   "outputs": [],
   "source": [
    "#create two functions\n",
    "def prediction_check(samples, prior, likelihood0, likelihood1, threshold_):\n",
    "    diabetes_probability = []\n",
    "    for sample in samples:\n",
    "        diabetes_probability.append(posterior(sample, prior, likelihood0, likelihood1))\n",
    "    threshold = [threshold_]*test_size\n",
    "    return (np.array(diabetes_probability) > threshold)"
   ]
  },
  {
   "cell_type": "code",
   "execution_count": 227,
   "metadata": {
    "collapsed": false
   },
   "outputs": [
    {
     "name": "stdout",
     "output_type": "stream",
     "text": [
      "0.655844155844\n"
     ]
    }
   ],
   "source": [
    "threshold = 0.5\n",
    "diabetes_indicator = prediction_check(test_samples, diabetes_prior, diabetes_likelihoods, non_diabetes_likelihoods,threshold)\n",
    "correct_predictions = sum(diabetes_indicator == test_outcomes)\n",
    "accuracy = float(correct_predictions)/test_size\n",
    "print accuracy"
   ]
  },
  {
   "cell_type": "markdown",
   "metadata": {},
   "source": [
    "# Information Gain"
   ]
  },
  {
   "cell_type": "markdown",
   "metadata": {},
   "source": [
    "Information gain will be calculated using KL-Divergence:\n",
    "<img src=\"https://wikimedia.org/api/rest_v1/media/math/render/svg/b1c44a164308ced602825bacc5122ca7d4715c78\">"
   ]
  },
  {
   "cell_type": "markdown",
   "metadata": {},
   "source": [
    "Where P(i) is the original prior and Q(i) is the posterior calculated for each evidence in each sample, without updates."
   ]
  },
  {
   "cell_type": "code",
   "execution_count": 228,
   "metadata": {
    "collapsed": false
   },
   "outputs": [
    {
     "name": "stdout",
     "output_type": "stream",
     "text": [
      "{0: 'Pregnancies', 1: 'Glucose', 2: 'BloodPressure', 3: 'BMI', 4: 'DiabetesPedigreeFunction', 5: 'Age'}\n"
     ]
    }
   ],
   "source": [
    "column_to_id = {}\n",
    "i = 0\n",
    "for column in column_list:\n",
    "    column_to_id[i] = column\n",
    "    i+=1\n",
    "print column_to_id"
   ]
  },
  {
   "cell_type": "code",
   "execution_count": 232,
   "metadata": {
    "collapsed": false
   },
   "outputs": [
    {
     "ename": "TypeError",
     "evalue": "izip argument #1 must support iteration",
     "output_type": "error",
     "traceback": [
      "\u001b[1;31m---------------------------------------------------------------------------\u001b[0m",
      "\u001b[1;31mTypeError\u001b[0m                                 Traceback (most recent call last)",
      "\u001b[1;32m<ipython-input-232-7b85cd75b520>\u001b[0m in \u001b[0;36m<module>\u001b[1;34m()\u001b[0m\n\u001b[0;32m      1\u001b[0m \u001b[0mnum_of_features\u001b[0m \u001b[1;33m=\u001b[0m \u001b[0mlen\u001b[0m\u001b[1;33m(\u001b[0m\u001b[0mcolumn_list\u001b[0m\u001b[1;33m)\u001b[0m\u001b[1;33m\u001b[0m\u001b[0m\n\u001b[0;32m      2\u001b[0m \u001b[0mposterior_matrix\u001b[0m \u001b[1;33m=\u001b[0m \u001b[0mnp\u001b[0m\u001b[1;33m.\u001b[0m\u001b[0mzeros\u001b[0m\u001b[1;33m(\u001b[0m\u001b[1;33m(\u001b[0m\u001b[0mtest_size\u001b[0m\u001b[1;33m,\u001b[0m\u001b[0mnum_of_features\u001b[0m\u001b[1;33m)\u001b[0m\u001b[1;33m)\u001b[0m\u001b[1;33m\u001b[0m\u001b[0m\n\u001b[1;32m----> 3\u001b[1;33m \u001b[1;32mfor\u001b[0m \u001b[1;33m(\u001b[0m\u001b[0mi\u001b[0m\u001b[1;33m,\u001b[0m \u001b[0msample\u001b[0m\u001b[1;33m)\u001b[0m \u001b[1;32min\u001b[0m \u001b[0mitertools\u001b[0m\u001b[1;33m.\u001b[0m\u001b[0mizip\u001b[0m\u001b[1;33m(\u001b[0m\u001b[0mtest_size\u001b[0m\u001b[1;33m,\u001b[0m \u001b[0mtest_samples\u001b[0m\u001b[1;33m)\u001b[0m\u001b[1;33m:\u001b[0m\u001b[1;33m\u001b[0m\u001b[0m\n\u001b[0m\u001b[0;32m      4\u001b[0m     \u001b[1;32mfor\u001b[0m \u001b[1;33m(\u001b[0m\u001b[0mj\u001b[0m\u001b[1;33m,\u001b[0m \u001b[0mevidence\u001b[0m\u001b[1;33m)\u001b[0m \u001b[1;32min\u001b[0m \u001b[0mitertools\u001b[0m\u001b[1;33m.\u001b[0m\u001b[0mizip\u001b[0m\u001b[1;33m(\u001b[0m\u001b[0mnum_of_features\u001b[0m\u001b[1;33m,\u001b[0m \u001b[0msample\u001b[0m\u001b[1;33m)\u001b[0m\u001b[1;33m:\u001b[0m\u001b[1;33m\u001b[0m\u001b[0m\n\u001b[0;32m      5\u001b[0m         \u001b[0mposterior_matrix\u001b[0m\u001b[1;33m[\u001b[0m\u001b[0mi\u001b[0m\u001b[1;33m]\u001b[0m\u001b[1;33m[\u001b[0m\u001b[0mj\u001b[0m\u001b[1;33m]\u001b[0m \u001b[1;33m=\u001b[0m \u001b[0mposterior\u001b[0m\u001b[1;33m(\u001b[0m\u001b[0mevidence\u001b[0m\u001b[1;33m,\u001b[0m \u001b[0mdiabetes_prior\u001b[0m\u001b[1;33m,\u001b[0m \u001b[0mlikelihoods0\u001b[0m\u001b[1;33m[\u001b[0m\u001b[0mj\u001b[0m\u001b[1;33m]\u001b[0m\u001b[1;33m,\u001b[0m \u001b[0mlikelihoods1\u001b[0m\u001b[1;33m[\u001b[0m\u001b[0mj\u001b[0m\u001b[1;33m]\u001b[0m\u001b[1;33m)\u001b[0m\u001b[1;33m\u001b[0m\u001b[0m\n",
      "\u001b[1;31mTypeError\u001b[0m: izip argument #1 must support iteration"
     ]
    }
   ],
   "source": [
    "num_of_features = len(column_list)\n",
    "posterior_matrix = np.zeros((test_size,num_of_features))\n",
    "for i, sample in test_size, test_samples:\n",
    "    for (j, evidence) in itertools.izip(num_of_features, sample):\n",
    "        posterior_matrix[i][j] = posterior(evidence, diabetes_prior, likelihoods0[j], likelihoods1[j])\n",
    "        "
   ]
  },
  {
   "cell_type": "code",
   "execution_count": null,
   "metadata": {
    "collapsed": true
   },
   "outputs": [],
   "source": []
  }
 ],
 "metadata": {
  "anaconda-cloud": {},
  "kernelspec": {
   "display_name": "Python [Root]",
   "language": "python",
   "name": "Python [Root]"
  },
  "language_info": {
   "codemirror_mode": {
    "name": "ipython",
    "version": 2
   },
   "file_extension": ".py",
   "mimetype": "text/x-python",
   "name": "python",
   "nbconvert_exporter": "python",
   "pygments_lexer": "ipython2",
   "version": "2.7.12"
  }
 },
 "nbformat": 4,
 "nbformat_minor": 0
}
