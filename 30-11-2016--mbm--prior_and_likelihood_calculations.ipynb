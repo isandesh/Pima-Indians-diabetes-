{
 "cells": [
  {
   "cell_type": "markdown",
   "metadata": {},
   "source": [
    "# Bayes Model Calculations"
   ]
  },
  {
   "cell_type": "code",
   "execution_count": 272,
   "metadata": {
    "collapsed": true
   },
   "outputs": [],
   "source": [
    "import numpy as np\n",
    "import pandas as pd\n",
    "import itertools\n",
    "from scipy import stats"
   ]
  },
  {
   "cell_type": "markdown",
   "metadata": {},
   "source": [
    "### Loading Data"
   ]
  },
  {
   "cell_type": "code",
   "execution_count": 273,
   "metadata": {
    "collapsed": false
   },
   "outputs": [
    {
     "data": {
      "text/html": [
       "<div>\n",
       "<table border=\"1\" class=\"dataframe\">\n",
       "  <thead>\n",
       "    <tr style=\"text-align: right;\">\n",
       "      <th></th>\n",
       "      <th>Unnamed: 0</th>\n",
       "      <th>Pregnancies</th>\n",
       "      <th>Glucose</th>\n",
       "      <th>BloodPressure</th>\n",
       "      <th>BMI</th>\n",
       "      <th>DiabetesPedigreeFunction</th>\n",
       "      <th>Age</th>\n",
       "      <th>Outcome</th>\n",
       "    </tr>\n",
       "  </thead>\n",
       "  <tbody>\n",
       "    <tr>\n",
       "      <th>count</th>\n",
       "      <td>614.000000</td>\n",
       "      <td>614.000000</td>\n",
       "      <td>614.000000</td>\n",
       "      <td>614.000000</td>\n",
       "      <td>614.000000</td>\n",
       "      <td>614.000000</td>\n",
       "      <td>614.000000</td>\n",
       "      <td>614.000000</td>\n",
       "    </tr>\n",
       "    <tr>\n",
       "      <th>mean</th>\n",
       "      <td>388.925081</td>\n",
       "      <td>1.625407</td>\n",
       "      <td>1.019544</td>\n",
       "      <td>0.956026</td>\n",
       "      <td>1.781759</td>\n",
       "      <td>0.363192</td>\n",
       "      <td>0.311075</td>\n",
       "      <td>0.328990</td>\n",
       "    </tr>\n",
       "    <tr>\n",
       "      <th>std</th>\n",
       "      <td>221.258320</td>\n",
       "      <td>1.054659</td>\n",
       "      <td>0.719984</td>\n",
       "      <td>0.434658</td>\n",
       "      <td>1.038222</td>\n",
       "      <td>0.481312</td>\n",
       "      <td>0.553183</td>\n",
       "      <td>0.470229</td>\n",
       "    </tr>\n",
       "    <tr>\n",
       "      <th>min</th>\n",
       "      <td>1.000000</td>\n",
       "      <td>0.000000</td>\n",
       "      <td>0.000000</td>\n",
       "      <td>0.000000</td>\n",
       "      <td>0.000000</td>\n",
       "      <td>0.000000</td>\n",
       "      <td>0.000000</td>\n",
       "      <td>0.000000</td>\n",
       "    </tr>\n",
       "    <tr>\n",
       "      <th>25%</th>\n",
       "      <td>203.250000</td>\n",
       "      <td>1.000000</td>\n",
       "      <td>1.000000</td>\n",
       "      <td>1.000000</td>\n",
       "      <td>1.000000</td>\n",
       "      <td>0.000000</td>\n",
       "      <td>0.000000</td>\n",
       "      <td>0.000000</td>\n",
       "    </tr>\n",
       "    <tr>\n",
       "      <th>50%</th>\n",
       "      <td>394.500000</td>\n",
       "      <td>2.000000</td>\n",
       "      <td>1.000000</td>\n",
       "      <td>1.000000</td>\n",
       "      <td>2.000000</td>\n",
       "      <td>0.000000</td>\n",
       "      <td>0.000000</td>\n",
       "      <td>0.000000</td>\n",
       "    </tr>\n",
       "    <tr>\n",
       "      <th>75%</th>\n",
       "      <td>579.750000</td>\n",
       "      <td>3.000000</td>\n",
       "      <td>1.000000</td>\n",
       "      <td>1.000000</td>\n",
       "      <td>3.000000</td>\n",
       "      <td>1.000000</td>\n",
       "      <td>1.000000</td>\n",
       "      <td>1.000000</td>\n",
       "    </tr>\n",
       "    <tr>\n",
       "      <th>max</th>\n",
       "      <td>767.000000</td>\n",
       "      <td>3.000000</td>\n",
       "      <td>3.000000</td>\n",
       "      <td>2.000000</td>\n",
       "      <td>3.000000</td>\n",
       "      <td>1.000000</td>\n",
       "      <td>2.000000</td>\n",
       "      <td>1.000000</td>\n",
       "    </tr>\n",
       "  </tbody>\n",
       "</table>\n",
       "</div>"
      ],
      "text/plain": [
       "       Unnamed: 0  Pregnancies     Glucose  BloodPressure         BMI  \\\n",
       "count  614.000000   614.000000  614.000000     614.000000  614.000000   \n",
       "mean   388.925081     1.625407    1.019544       0.956026    1.781759   \n",
       "std    221.258320     1.054659    0.719984       0.434658    1.038222   \n",
       "min      1.000000     0.000000    0.000000       0.000000    0.000000   \n",
       "25%    203.250000     1.000000    1.000000       1.000000    1.000000   \n",
       "50%    394.500000     2.000000    1.000000       1.000000    2.000000   \n",
       "75%    579.750000     3.000000    1.000000       1.000000    3.000000   \n",
       "max    767.000000     3.000000    3.000000       2.000000    3.000000   \n",
       "\n",
       "       DiabetesPedigreeFunction         Age     Outcome  \n",
       "count                614.000000  614.000000  614.000000  \n",
       "mean                   0.363192    0.311075    0.328990  \n",
       "std                    0.481312    0.553183    0.470229  \n",
       "min                    0.000000    0.000000    0.000000  \n",
       "25%                    0.000000    0.000000    0.000000  \n",
       "50%                    0.000000    0.000000    0.000000  \n",
       "75%                    1.000000    1.000000    1.000000  \n",
       "max                    1.000000    2.000000    1.000000  "
      ]
     },
     "execution_count": 273,
     "metadata": {},
     "output_type": "execute_result"
    }
   ],
   "source": [
    "df = pd.read_csv('train.csv')\n",
    "df.describe()"
   ]
  },
  {
   "cell_type": "code",
   "execution_count": 274,
   "metadata": {
    "collapsed": false
   },
   "outputs": [],
   "source": [
    "#Removing redundant indices column\n",
    "df.drop('Unnamed: 0', axis=1, inplace=True)"
   ]
  },
  {
   "cell_type": "markdown",
   "metadata": {},
   "source": [
    "### Functions for creating discrete probability distributions "
   ]
  },
  {
   "cell_type": "code",
   "execution_count": 275,
   "metadata": {
    "collapsed": false
   },
   "outputs": [],
   "source": [
    "def possible_values_per_feature(df_, features):\n",
    "    possible_values = []\n",
    "    for feature in features:\n",
    "        possible_values.append(df_.dropna(subset=[feature]).index.values)\n",
    "    return possible_values\n",
    "\n",
    "def value_probabilities_per_feature(df_, features, observations):\n",
    "    value_probabilities = []\n",
    "    for feature in features:\n",
    "        value_probabilities.append(df_[feature]/observations)\n",
    "    return value_probabilities\n",
    "\n",
    "def discrete_dist_per_feature(possible_values, value_probabilities, features):\n",
    "    dist = []\n",
    "    for feature, x, p in itertools.izip(features, possible_values, value_probabilities):\n",
    "        dist.append(stats.rv_discrete(name=feature, values=(x, p)))\n",
    "    return dist"
   ]
  },
  {
   "cell_type": "markdown",
   "metadata": {},
   "source": [
    "### Priors"
   ]
  },
  {
   "cell_type": "code",
   "execution_count": 276,
   "metadata": {
    "collapsed": true
   },
   "outputs": [],
   "source": [
    "total_observations = len(df)\n",
    "counts_df = df.apply(pd.value_counts)"
   ]
  },
  {
   "cell_type": "code",
   "execution_count": 277,
   "metadata": {
    "collapsed": true
   },
   "outputs": [],
   "source": [
    "column_list = counts_df.columns.values.tolist()\n",
    "column_list.remove('Outcome')"
   ]
  },
  {
   "cell_type": "code",
   "execution_count": 278,
   "metadata": {
    "collapsed": true
   },
   "outputs": [],
   "source": [
    "diabetes_prior = 0.66  "
   ]
  },
  {
   "cell_type": "code",
   "execution_count": 279,
   "metadata": {
    "collapsed": false
   },
   "outputs": [],
   "source": [
    "possible_values = possible_values_per_feature(counts_df, column_list)\n",
    "value_probabilities = value_probabilities_per_feature(counts_df, column_list, total_observations)\n",
    "priors = discrete_dist_per_feature(possible_values, value_probabilities, column_list)\n",
    "#use xk for possible values, pk for probabilities"
   ]
  },
  {
   "cell_type": "markdown",
   "metadata": {},
   "source": [
    "### Likelihoods"
   ]
  },
  {
   "cell_type": "code",
   "execution_count": 280,
   "metadata": {
    "collapsed": true
   },
   "outputs": [],
   "source": [
    "pd.options.mode.chained_assignment = None  # default='warn'"
   ]
  },
  {
   "cell_type": "markdown",
   "metadata": {},
   "source": [
    "subsetting the DF to diabetes positive and diabetes negative patients:"
   ]
  },
  {
   "cell_type": "code",
   "execution_count": 281,
   "metadata": {
    "collapsed": false
   },
   "outputs": [],
   "source": [
    "diabetes_df = df.loc[df.Outcome == 1]\n",
    "diabetes_df.drop('Outcome', axis=1, inplace=True)\n",
    "counts_diabetes_df= diabetes_df.apply(pd.value_counts)\n",
    "\n",
    "non_diabetes_df = df.loc[df.Outcome == 0]\n",
    "non_diabetes_df.drop('Outcome', axis=1, inplace=True)\n",
    "counts_non_diabetes_df= non_diabetes_df.apply(pd.value_counts)"
   ]
  },
  {
   "cell_type": "code",
   "execution_count": 282,
   "metadata": {
    "collapsed": false
   },
   "outputs": [],
   "source": [
    "diabetes_observations = len(diabetes_df)\n",
    "non_diabetes_observations = total_observations - diabetes_observations"
   ]
  },
  {
   "cell_type": "markdown",
   "metadata": {},
   "source": [
    "Calculating likelihoods (From the class definition)"
   ]
  },
  {
   "cell_type": "code",
   "execution_count": 283,
   "metadata": {
    "collapsed": false
   },
   "outputs": [],
   "source": [
    "diabetes_value_prob = value_probabilities_per_feature(counts_diabetes_df, column_list, diabetes_observations)\n",
    "diabetes_likelihoods = discrete_dist_per_feature(possible_values, diabetes_value_prob, column_list)\n",
    "non_diabetes_value_prob = value_probabilities_per_feature(counts_non_diabetes_df, column_list, non_diabetes_observations)\n",
    "non_diabetes_likelihoods = discrete_dist_per_feature(possible_values, non_diabetes_value_prob, column_list)"
   ]
  },
  {
   "cell_type": "markdown",
   "metadata": {},
   "source": [
    "# Testing\n"
   ]
  },
  {
   "cell_type": "markdown",
   "metadata": {},
   "source": [
    "### Functions for testing"
   ]
  },
  {
   "cell_type": "markdown",
   "metadata": {},
   "source": [
    "Returns a list of P(e|Diabetes), I assume independence between variables."
   ]
  },
  {
   "cell_type": "code",
   "execution_count": 284,
   "metadata": {
    "collapsed": true
   },
   "outputs": [],
   "source": [
    "def cond_prob_sample(likelihoods0, likelihoods1, sample):\n",
    "    sample_prob = []\n",
    "    for e, l0, l1 in itertools.izip(sample, likelihoods0, likelihoods1):\n",
    "        sample_prob.append([l0.pmf(e), l1.pmf(e)])\n",
    "    return sample_prob"
   ]
  },
  {
   "cell_type": "markdown",
   "metadata": {},
   "source": [
    "marginal = [P(e1|D=1)...P(e6|D=1)P(D=1) + P(e1|D=0)...P(e6|D=0)P(D=0)]"
   ]
  },
  {
   "cell_type": "code",
   "execution_count": 285,
   "metadata": {
    "collapsed": true
   },
   "outputs": [],
   "source": [
    "def marg_prob_sample(sample_probability, diabetes_prior):\n",
    "    d0 = 1\n",
    "    d1 = 1\n",
    "    for l0, l1 in sample_probability:\n",
    "        d0 *= l0\n",
    "        d1 *= l1\n",
    "    return d1*diabetes_prior + d0*(1-diabetes_prior)"
   ]
  },
  {
   "cell_type": "markdown",
   "metadata": {},
   "source": [
    "posterior = P(D|e1,...,e6) = [P(e1|D=1)...P(e6|D=1)P(D=1)] / marginal"
   ]
  },
  {
   "cell_type": "code",
   "execution_count": 286,
   "metadata": {
    "collapsed": true
   },
   "outputs": [],
   "source": [
    "def posterior(sample, diabetes_prior, likelihoods0, likelihoods1):\n",
    "    cond_prob = cond_prob_sample(likelihoods0, likelihoods1, sample)\n",
    "    PE = marg_prob_sample(cond_prob, diabetes_prior)\n",
    "    posterior = 1\n",
    "    for cond_prob0, cond_prob1 in cond_prob:\n",
    "        posterior *= cond_prob1\n",
    "    return (posterior*diabetes_prior)/PE"
   ]
  },
  {
   "cell_type": "markdown",
   "metadata": {},
   "source": [
    "### Loading test data"
   ]
  },
  {
   "cell_type": "code",
   "execution_count": 287,
   "metadata": {
    "collapsed": true
   },
   "outputs": [],
   "source": [
    "df_test = pd.read_csv('test.csv')"
   ]
  },
  {
   "cell_type": "code",
   "execution_count": 315,
   "metadata": {
    "collapsed": false
   },
   "outputs": [],
   "source": [
    "test_size = len(df_test)"
   ]
  },
  {
   "cell_type": "code",
   "execution_count": 289,
   "metadata": {
    "collapsed": false
   },
   "outputs": [],
   "source": [
    "df_test.drop('Unnamed: 0', axis=1, inplace=True)"
   ]
  },
  {
   "cell_type": "code",
   "execution_count": 290,
   "metadata": {
    "collapsed": false
   },
   "outputs": [],
   "source": [
    "test_outcomes = df_test['Outcome'].as_matrix\n",
    "test_outcomes = test_outcomes > 0\n",
    "test_samples = df_test.drop('Outcome', axis=1).as_matrix()"
   ]
  },
  {
   "cell_type": "markdown",
   "metadata": {},
   "source": [
    "### Predicting"
   ]
  },
  {
   "cell_type": "code",
   "execution_count": 291,
   "metadata": {
    "collapsed": false
   },
   "outputs": [],
   "source": [
    "#create two functions\n",
    "def prediction_check(samples, prior, likelihood0, likelihood1, threshold_):\n",
    "    diabetes_probability = []\n",
    "    for sample in samples:\n",
    "        diabetes_probability.append(posterior(sample, prior, likelihood0, likelihood1))\n",
    "    threshold = [threshold_]*test_size\n",
    "    return (np.array(diabetes_probability) > threshold)"
   ]
  },
  {
   "cell_type": "code",
   "execution_count": 292,
   "metadata": {
    "collapsed": false
   },
   "outputs": [
    {
     "name": "stdout",
     "output_type": "stream",
     "text": [
      "0.655844155844\n"
     ]
    }
   ],
   "source": [
    "threshold = 0.5\n",
    "diabetes_indicator = prediction_check(test_samples, diabetes_prior, diabetes_likelihoods, non_diabetes_likelihoods,threshold)\n",
    "correct_predictions = sum(diabetes_indicator == test_outcomes)\n",
    "accuracy = float(correct_predictions)/test_size\n",
    "print accuracy"
   ]
  },
  {
   "cell_type": "markdown",
   "metadata": {},
   "source": [
    "# Information Gain"
   ]
  },
  {
   "cell_type": "markdown",
   "metadata": {},
   "source": [
    "Information Gain\n",
    "Information gain will be calculated using KL-Divergence: \n",
    "<img src= \"https://wikimedia.org/api/rest_v1/media/math/render/svg/b1c44a164308ced602825bacc5122ca7d4715c78\">"
   ]
  },
  {
   "cell_type": "code",
   "execution_count": 323,
   "metadata": {
    "collapsed": false
   },
   "outputs": [],
   "source": [
    "def posterior_matrix(samples, likelihoods0, likelihoods1, prior):\n",
    "    num_of_samples, num_of_features = samples.shape\n",
    "    matrix = np.zeros((num_of_samples,num_of_features))\n",
    "    for i, sample in enumerate(samples):\n",
    "        for j, evidence in enumerate(sample):\n",
    "            matrix[i][j] = posterior([evidence], prior, [likelihoods0[j]], [likelihoods1[j]])\n",
    "    return matrix"
   ]
  },
  {
   "cell_type": "code",
   "execution_count": 336,
   "metadata": {
    "collapsed": false
   },
   "outputs": [],
   "source": [
    "non_diabetes_prior = 1-diabetes_prior\n",
    "diabetes_posterior = posterior_matrix(test_samples, non_diabetes_likelihoods, diabetes_likelihoods, diabetes_prior)\n",
    "no_diabetes_posterior = 1.-diabetes_posterior\n",
    "KL_div = non_diabetes_prior*np.log(non_diabetes_prior/no_diabetes_posterior) + \\\n",
    "           diabetes_prior *np.log(diabetes_prior/diabetes_posterior)"
   ]
  },
  {
   "cell_type": "code",
   "execution_count": 338,
   "metadata": {
    "collapsed": false
   },
   "outputs": [],
   "source": [
    "best_feature_for_1st_sample = KL_div.max()"
   ]
  },
  {
   "cell_type": "code",
   "execution_count": 339,
   "metadata": {
    "collapsed": false
   },
   "outputs": [
    {
     "name": "stdout",
     "output_type": "stream",
     "text": [
      "0.493491147792\n"
     ]
    }
   ],
   "source": [
    "print best_feature_for_1st_sample"
   ]
  },
  {
   "cell_type": "code",
   "execution_count": null,
   "metadata": {
    "collapsed": true
   },
   "outputs": [],
   "source": []
  }
 ],
 "metadata": {
  "anaconda-cloud": {},
  "kernelspec": {
   "display_name": "Python [Root]",
   "language": "python",
   "name": "Python [Root]"
  },
  "language_info": {
   "codemirror_mode": {
    "name": "ipython",
    "version": 2
   },
   "file_extension": ".py",
   "mimetype": "text/x-python",
   "name": "python",
   "nbconvert_exporter": "python",
   "pygments_lexer": "ipython2",
   "version": "2.7.12"
  }
 },
 "nbformat": 4,
 "nbformat_minor": 0
}
